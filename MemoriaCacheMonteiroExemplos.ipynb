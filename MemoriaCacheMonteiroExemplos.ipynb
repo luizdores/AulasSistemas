{
 "cells": [
  {
   "cell_type": "markdown",
   "metadata": {},
   "source": [
    "## Aluno: Luiz Henrique Worthigton Maia Dores"
   ]
  },
  {
   "cell_type": "markdown",
   "metadata": {},
   "source": [
    "### Exemplo 5.1\n",
    "<br> Um determinado sistema de computação possui uma memória cache, MP e processador. Em operações normais, obtêm-se **96 acertos** para cada **100 acessos** do processador às memoria. Qual deve ser a eficiência do sistema cache/MP?"
   ]
  },
  {
   "cell_type": "code",
   "execution_count": 40,
   "metadata": {},
   "outputs": [
    {
     "name": "stdout",
     "output_type": "stream",
     "text": [
      "\u001b[1mTaxa de eficiencia: 96.0 %\u001b[0m\n"
     ]
    }
   ],
   "source": [
    "print(\"\\033[1mTaxa de eficiencia:\", (96/100)*100, \"%\\033[0m\")"
   ]
  },
  {
   "cell_type": "markdown",
   "metadata": {},
   "source": [
    "### Exemplo 5.2\n",
    "<br> Cálculo da quantidade bits necessários para uma determianda memória cache.\n",
    "<br> Considere um sistema de computação com uma memoria cache de **32 kb** de capacidade, constituida de linhas de **8 bytes** de largura. A MP possui uma capacide de 16MB."
   ]
  },
  {
   "cell_type": "code",
   "execution_count": 41,
   "metadata": {},
   "outputs": [
    {
     "name": "stdout",
     "output_type": "stream",
     "text": [
      "Quantidade total de bits 299008 = 292.0 KB\n"
     ]
    }
   ],
   "source": [
    "# T = N . E\n",
    "def convBase(valor, unidade):\n",
    "    convert = 0\n",
    "    if unidade.lower() == \"b\":\n",
    "        convert = valor\n",
    "    elif unidade.lower() == \"k\":\n",
    "        convert = valor * 1024\n",
    "    elif unidade.lower() == \"m\":\n",
    "        convert = valor * 1024 ** 2\n",
    "    elif unidade.lower() == \"kb\":\n",
    "        convert = valor * 2 ** 10\n",
    "    elif unidade.lower() == \"mb\":\n",
    "        convert = valor * 2 ** 20\n",
    "\n",
    "    for i in range(0, 255):\n",
    "        if 2 ** i >= convert: return i\n",
    "\n",
    "cellQtd = 32 #Quantidade de Celulas\n",
    "cellSize = 8 #Tamanho da celula\n",
    "memCap = 16 #Tamanho da MP\n",
    "\n",
    "linesQtd = convBase(cellQtd / cellSize, \"kb\") #Quantidade de linhas\n",
    "blocksQtd = convBase(memCap / cellSize, \"mb\") #Quantidade de blocos\n",
    "tagWidth = blocksQtd - linesQtd #Largura do Campo tag\n",
    "totalBitsDaTag = 2 ** linesQtd * tagWidth #Total de Bits da Tag\n",
    "bitsTotal = (32*8*1024) + totalBitsDaTag #Total de bits do calculo\n",
    "\n",
    "print(\"Quantidade total de bits\", bitsTotal, \"=\", (bitsTotal / 1024), \"KB\")\n"
   ]
  },
  {
   "cell_type": "markdown",
   "metadata": {},
   "source": [
    "**R=** Foi criada então uma função de conversão de unidades de dados e com auxilio dela os outros calculos foram realizados, tal função será reutilizada para os proximos exemplos"
   ]
  },
  {
   "cell_type": "markdown",
   "metadata": {},
   "source": [
    "### Exemplo 5.3\n",
    "<br> Cálculo de formato de endereço para memórias cache com mapeamento direto.\n",
    "<br> Considere uma MP com **64MB** de capacidade associada a uma memória cache que possui **2K linhas**, cada uma com largura de **16 bytes**. Determine o formato do endereço para ser interpretado pelo sustema de controle da cache."
   ]
  },
  {
   "cell_type": "code",
   "execution_count": 42,
   "metadata": {},
   "outputs": [
    {
     "name": "stdout",
     "output_type": "stream",
     "text": [
      "Byte: 4 bits\n",
      "Linha: 11 bits\n",
      "Tag: 11 bits\n"
     ]
    }
   ],
   "source": [
    "memCap = 64 #Tamanho Da MP\n",
    "linesQtd = 2 #Quantidade de Linhas\n",
    "blockWidth = 16 #Largura do Bloco\n",
    "\n",
    "largBlocoExp = convBase(blockWidth, 'b')\n",
    "totalBitsDados = convBase(memCap / blockWidth, 'mb')\n",
    "print(\"Byte:\", largBlocoExp, \"bits\")\n",
    "print(\"Linha:\", int(totalBitsDados / 2), \"bits\")\n",
    "print(\"Tag:\", int(totalBitsDados / 2), \"bits\")"
   ]
  },
  {
   "cell_type": "markdown",
   "metadata": {},
   "source": [
    "**R=** Por meio da reutilização da funçao de conversão e reutilização de partes do codigo se é possivel fazer os calculos necessarios"
   ]
  },
  {
   "cell_type": "markdown",
   "metadata": {},
   "source": [
    "### Exemplo 5.4\n",
    "<br>  Seja uma MP constituída de blocos com largura de **32 bytes**, associada a uma cache com **128KB**. Em dado instante o processador realiza um acesso. colocando o seguinte endereço (expresso em algarismos hexadeciamais): **3FC92B6**. Determine qual deverá ser o valor do binário da linha que será localizada pelo sistema de controle da cache."
   ]
  },
  {
   "cell_type": "code",
   "execution_count": 50,
   "metadata": {},
   "outputs": [
    {
     "name": "stdout",
     "output_type": "stream",
     "text": [
      "Endereço da linha: 010010010101\n"
     ]
    }
   ],
   "source": [
    "def hexsize(hex):\n",
    "    lenght = len(hex) * 4\n",
    "    return lenght\n",
    "\n",
    "def hextobin(hex):\n",
    "    binval = bin(int(hex, 16))[2:]\n",
    "    while ((len(binval)) < hexsize(hex)):\n",
    "        binval = '0' + binval\n",
    "    return binval\n",
    "\n",
    "hexa = \"3FC92B6\" #Valor em Hexadecimal\n",
    "blockSize = 32 #Largura do bloco\n",
    "memCap = 128 #Tamanho Da MP\n",
    "\n",
    "hexAdressSize = len(hexa * 4)  # tamanho do endereço em binário\n",
    "byteCampSize = convBase(blockSize, 'b')  # tamanho do campo byte\n",
    "lineCampSize = convBase(memCap / blockSize, 'kb')  # tamanho do campo linha\n",
    "tagCampSize = hexAdressSize - (byteCampSize + lineCampSize)  # tamanho do campo tag\n",
    "binAdress = hextobin(hexa)  # endereco hexadecimal convertido pra binário\n",
    "\n",
    "print(\"Endereço da linha:\", binAdress[tagCampSize:(tagCampSize+lineCampSize)])"
   ]
  },
  {
   "cell_type": "markdown",
   "metadata": {},
   "source": [
    "**R=** Por meio da criação de duas novas funções para tratar do tamanho e conversão de um hexadecimal para binario foi possivel realizar o exemplo."
   ]
  },
  {
   "cell_type": "markdown",
   "metadata": {},
   "source": [
    "### Exemplo 5.5\n",
    "<br> Cálculo da quantidade de bits necessários para uma determinada memória cache.\n",
    "<br> Considere um sistema de computação com uma memória cache de **32 KB** de capacidade, constituida de lihas com **8 bytes**. A MP possui uma capacidade de **16MB**"
   ]
  },
  {
   "cell_type": "code",
   "execution_count": 44,
   "metadata": {},
   "outputs": [
    {
     "name": "stdout",
     "output_type": "stream",
     "text": [
      "Quantidade de bits necessarios 348160 ou 340.0 KB\n"
     ]
    }
   ],
   "source": [
    "mpCap = 16 #Capacidade Da MP\n",
    "lineSize = 8 #Largura Da Linha\n",
    "cacheCap = 32 #Capacidade Do Cache\n",
    "\n",
    "blockWidth = convBase(mpCap / lineSize, 'mb')\n",
    "lineWidth = convBase(cacheCap / lineSize, 'kb')\n",
    "totalBitsInBlock = 2 ** lineWidth * blockWidth\n",
    "totalBitsSize = (cacheCap * lineSize) * 1024\n",
    "totalOfBits = totalBitsSize + totalBitsInBlock\n",
    "\n",
    "print(\"Quantidade de bits necessarios\", totalOfBits, \"ou\", totalOfBits/1024, \"KB\")"
   ]
  },
  {
   "cell_type": "markdown",
   "metadata": {},
   "source": [
    "**R=** Novamente será reutilizada a função de conversão para que este seja resolvido de acordo com os requisitos da questão"
   ]
  },
  {
   "cell_type": "markdown",
   "metadata": {},
   "source": [
    "### Exemplo 5.6\n",
    "<br> Cálculo de formato de endereço para memórias cache com mapeamento associativo completo.\n",
    "<br> Considere uma MP com **64MB** de capacidade associada a uma memória cache que possui **2K** linhas, cada uma com largura de **16 bytes**. Determine o formato do endereço para ser interpretado pelo sistema de controle de cache."
   ]
  },
  {
   "cell_type": "code",
   "execution_count": 45,
   "metadata": {},
   "outputs": [
    {
     "name": "stdout",
     "output_type": "stream",
     "text": [
      "Byte: 4\n",
      "Block: 22\n"
     ]
    }
   ],
   "source": [
    "mpCap = 64 #Capacidade Da MP\n",
    "lineSize = 16 #Largura Da Linha\n",
    "lineQtd = 2 #Capacidade Do Cache\n",
    "\n",
    "adressSize = convBase(mpCap, 'mb')\n",
    "lineAdressSize = convBase(lineQtd, 'k')\n",
    "blockWidth = convBase(lineSize, 'b')\n",
    "blockAdressSize = adressSize - blockWidth\n",
    "\n",
    "print(\"Byte:\", adressSize - blockAdressSize)\n",
    "print(\"Block:\", blockAdressSize)"
   ]
  },
  {
   "cell_type": "markdown",
   "metadata": {},
   "source": [
    "**R=** Novamente será reutilizada a função de conversão para que este seja resolvido de acordo com os requisitos da questão"
   ]
  },
  {
   "cell_type": "markdown",
   "metadata": {},
   "source": [
    "### Exemplo 5.7\n",
    "<br> Seja uma MP constituida de blocos com largura de **32 bytes**, associada a uma cache com **64KB**. Em dado instante o processsador realiza um acesso, colocando o seguinte endereço (expresso em algarismos hexadecimais): **3FC92B6**. Determine qual deverá ser o valor binário do campo bloco que será localizado pelo sistema de controle da cache."
   ]
  },
  {
   "cell_type": "code",
   "execution_count": 46,
   "metadata": {},
   "outputs": [
    {
     "name": "stdout",
     "output_type": "stream",
     "text": [
      "Endereço do campo do bloco 00111111110010010010101\n"
     ]
    }
   ],
   "source": [
    "blockWidth = 32 #Tamanho Do Bloco\n",
    "hexa = \"3FC92B6\" #Endereço Hexadecimal\n",
    "\n",
    "binAdressSize = hexsize(hexa)\n",
    "byteCampSize = convBase(blockWidth, 'b')\n",
    "blockCampSize = binAdressSize - byteCampSize\n",
    "binAdress = hextobin(hexa)\n",
    "\n",
    "print(\"Endereço do campo do bloco\", binAdress[:blockCampSize])"
   ]
  },
  {
   "cell_type": "markdown",
   "metadata": {},
   "source": [
    "**R=** Novamente será reutilizada a função de conversão e também as funções de hexadecimal para que este seja resolvido de acordo com os requisitos da questão "
   ]
  },
  {
   "cell_type": "markdown",
   "metadata": {},
   "source": [
    "### Exemplo 5.8\n",
    "<br> Cálculo da quantidade de bits necessários para uma determinada memória cache, que funciona com mapeamento por conjunto de quatro.\n",
    "<br> Considere um sistema de computação com uma memória cache de **32KB** de capacidade, constituida de linha com **8 bytes** de largura e conjunto de 4. A MP possui uma capacidade de **16MB**."
   ]
  },
  {
   "cell_type": "code",
   "execution_count": 47,
   "metadata": {},
   "outputs": [
    {
     "name": "stdout",
     "output_type": "stream",
     "text": [
      "Quantidade de bits necessarios 270336.0 ou 264.0 Kbits\n"
     ]
    }
   ],
   "source": [
    "cacheCap = 32 #Capacidade de Cache\n",
    "lineWidth = 8 #Largura de linha\n",
    "conj = 4 #Tamanho do Conjunto\n",
    "memCap = 16 #Capacidade MP\n",
    "\n",
    "totalDataBits = cacheCap * lineWidth * 1024\n",
    "lineAdressSize = convBase(cacheCap / lineWidth, 'kb')\n",
    "conjAdressSize = convBase((cacheCap / lineWidth) / conj, 'k')\n",
    "blockadressSize = convBase(memCap / lineWidth, 'mb')\n",
    "tagCampSize = blockadressSize - conjAdressSize\n",
    "totalBitsTag = (2 ** lineAdressSize / 1024) * (2 ** tagCampSize / 1024) * 1024\n",
    "totalBits = totalDataBits + totalBitsTag\n",
    "\n",
    "print(\"Quantidade de bits necessarios\", totalBits, \"ou\", totalBits / 1024, \"Kbits\")"
   ]
  },
  {
   "cell_type": "markdown",
   "metadata": {},
   "source": [
    "**R=** Novamente será reutilizada a função de conversão para que este seja resolvido de acordo com os requisitos da questão"
   ]
  },
  {
   "cell_type": "markdown",
   "metadata": {},
   "source": [
    "### Exemplo 5.9\n",
    "<br> Cálculo de formato de endereço para memórias cache com mapeamento associativo por conjunto.\n",
    "<br> Considere uma MP com 64MB de capacidade associada a uma memória cache que funciona com mapeamento associativo por conjunto de 4 e que possui **32 KB**, com linhas de largura de **16 bytes**. Determine o formato do endereço para ser interpretado pelo sistema de controle da cache."
   ]
  },
  {
   "cell_type": "code",
   "execution_count": 48,
   "metadata": {},
   "outputs": [
    {
     "name": "stdout",
     "output_type": "stream",
     "text": [
      "Campo de tag: 11 bits\n",
      "Campo de tag: 11 bits\n",
      "Campo de tag: 4 bits\n"
     ]
    }
   ],
   "source": [
    "memCap = 64 #Capacidade MP\n",
    "conj = 4 #Tamanho do Conjunto\n",
    "cacheCap = 128 #Capacidade de Cache corrigida para que o valor coincida com o do exemplo\n",
    "lineWidth = 16 #Largura de linha\n",
    "\n",
    "blockWidth = convBase(lineWidth, 'b')\n",
    "conjWidth = convBase(conj, 'b')\n",
    "blockAdressSize = convBase(memCap / lineWidth, 'm')  # qntd de blocos reduzida para base 2\n",
    "cacheAdressLineSize = convBase(cacheCap / lineWidth, 'k')  # qntd de linhas da cache reduzida para base 2\n",
    "conjAdressSize = cacheAdressLineSize - conjWidth\n",
    "\n",
    "print(\"Campo de tag:\", blockAdressSize - conjAdressSize, \"bits\")\n",
    "print(\"Campo de tag:\", conjAdressSize, \"bits\")\n",
    "print(\"Campo de tag:\", blockWidth, \"bits\")"
   ]
  },
  {
   "cell_type": "markdown",
   "metadata": {},
   "source": [
    "**R=** Novamente será reutilizada a função de conversão para que este seja resolvido de acordo com os requisitos da questão"
   ]
  },
  {
   "cell_type": "markdown",
   "metadata": {},
   "source": [
    "### Exemplo 5.10\n",
    "<br> Seja uma MP constituída de blocos com largura de **32 bytes**, associada a uma cache com **64KB**; a cache usa mapeamento por conjunto de 4. Em lado instante o processador realiza um acesso, colocando o seguinte endereço (expresso em algarismos hexadecimais): **3FC92B6**. Determine qual deverá ser o valor binário do conjunto que será localozado pelo sistema de controle da cache."
   ]
  },
  {
   "cell_type": "code",
   "execution_count": 49,
   "metadata": {},
   "outputs": [
    {
     "name": "stdout",
     "output_type": "stream",
     "text": [
      "Binario do conjunto: 0010010101\n"
     ]
    }
   ],
   "source": [
    "blockWidth = 32 #Largura do bloco\n",
    "cacheCap = 128 #Capacidade de Cache corrigida para que o valor coincida com o do exemplo\n",
    "conj = 4 #Tamanho do Conjunto\n",
    "hexa = \"3FC92B6\"\n",
    "\n",
    "\n",
    "binAdressSize = hexsize(hexa)\n",
    "conjSize = convBase(conj, 'b')\n",
    "byteCampSize = convBase(blockWidth, 'b')\n",
    "linesQtd = convBase(cacheCap / blockWidth, 'kb')\n",
    "conjCampSize = linesQtd - conjSize\n",
    "tagCampSize = binAdressSize - conjCampSize - byteCampSize\n",
    "binAdress = hextobin(hexa)\n",
    "\n",
    "\n",
    "print(\"Binario do conjunto:\", binAdress[tagCampSize:(tagCampSize + conjCampSize)])"
   ]
  },
  {
   "cell_type": "markdown",
   "metadata": {},
   "source": [
    "**R=** Novamente será reutilizada a função de conversão e também as funções de hexadecimal para que este seja resolvido de acordo com os requisitos da questão "
   ]
  }
 ],
 "metadata": {
  "kernelspec": {
   "display_name": "Python 3",
   "language": "python",
   "name": "python3"
  },
  "language_info": {
   "codemirror_mode": {
    "name": "ipython",
    "version": 3
   },
   "file_extension": ".py",
   "mimetype": "text/x-python",
   "name": "python",
   "nbconvert_exporter": "python",
   "pygments_lexer": "ipython3",
   "version": "3.8.3"
  }
 },
 "nbformat": 4,
 "nbformat_minor": 4
}
