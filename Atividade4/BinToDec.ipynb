{
 "cells": [
  {
   "cell_type": "markdown",
   "metadata": {},
   "source": [
    "# Conversão de binario para decimal"
   ]
  },
  {
   "cell_type": "markdown",
   "metadata": {},
   "source": [
    "Primeiramente importo a biblioteca `numpy` que será utilizada para tratar do numero binario que será inserido, e dando valor 0 para algumas variaveis."
   ]
  },
  {
   "cell_type": "code",
   "execution_count": 1,
   "metadata": {},
   "outputs": [],
   "source": [
    "import numpy\n",
    "\n",
    "expo = 0\n",
    "temp = 0\n",
    "temp2 = 0"
   ]
  },
  {
   "cell_type": "markdown",
   "metadata": {},
   "source": [
    "Aqui então irei requisitar o valor em binario, que será então passado para a variavel `bin`.\n"
   ]
  },
  {
   "cell_type": "markdown",
   "metadata": {},
   "source": [
    "Então a variavel `lista` o converterá para uma lista usando a funçao map e posteriormente a função list\n"
   ]
  },
  {
   "cell_type": "markdown",
   "metadata": {},
   "source": [
    "Feito isso a variavel `array` convertera essa lista para uma array\n"
   ]
  },
  {
   "cell_type": "markdown",
   "metadata": {},
   "source": [
    "E por ultimo essa array será revertida."
   ]
  },
  {
   "cell_type": "code",
   "execution_count": null,
   "metadata": {},
   "outputs": [],
   "source": [
    "bin = int(input(\"Entre com um numero em binario: \"))\n",
    "lista = list(map(int, str(int(bin))))\n",
    "array = numpy.array(lista)\n",
    "reversed_array=numpy.flip(array)\n"
   ]
  },
  {
   "cell_type": "markdown",
   "metadata": {},
   "source": [
    "Usaremos então está estrutura `while` para fazer o calculo do binario para decimal, sendo que ela só será satisfeita quando a variavel expo for igual a quantidade de numeros dentro da array que tem o binario armazenado."
   ]
  },
  {
   "cell_type": "markdown",
   "metadata": {},
   "source": [
    "Após isso então teremos `temp = reversed_array[expo] * 2 ** expo` que basicamente pegará cada um dos elementos da array e fará ele elevado a sua posição"
   ]
  },
  {
   "cell_type": "markdown",
   "metadata": {},
   "source": [
    "Então `temp2 = temp2 + temp` irá armazenar e somar o valor de cada vez que a estrutura for repetida"
   ]
  },
  {
   "cell_type": "markdown",
   "metadata": {},
   "source": [
    "E por ultimo `expo = expo + 1` irá somar 1 a a variavel expo a cada vez que ela for repetida"
   ]
  },
  {
   "cell_type": "code",
   "execution_count": null,
   "metadata": {},
   "outputs": [],
   "source": [
    "while expo != len(reversed_array):\n",
    "    temp = reversed_array[expo] * 2 ** expo\n",
    "    temp2 = temp2 + temp\n",
    "    expo = expo + 1\n"
   ]
  },
  {
   "cell_type": "markdown",
   "metadata": {},
   "source": [
    "Por ultimo quando a variavel expo for igual a quantidades de elementos da array reversa ele irá então exibir o valor de `temp2` que armazena as somas feitas pela estrutura de repetição que foi montada."
   ]
  },
  {
   "cell_type": "code",
   "execution_count": null,
   "metadata": {},
   "outputs": [],
   "source": [
    "print(f\"Seu valor em decimal é de {temp2}\")"
   ]
  },
  {
   "cell_type": "markdown",
   "metadata": {},
   "source": [
    "Nosso codigo completo então fica assim:"
   ]
  },
  {
   "cell_type": "code",
   "execution_count": 4,
   "metadata": {},
   "outputs": [
    {
     "name": "stdout",
     "output_type": "stream",
     "text": [
      "Entre com um numero em binario: 111\n",
      "Seu valor em decimal é de 7\n"
     ]
    }
   ],
   "source": [
    "import numpy\n",
    "\n",
    "bin = int(input(\"Entre com um numero em binario: \"))\n",
    "lista = list(map(int, str(int(bin))))\n",
    "array = numpy.array(lista)\n",
    "reversed_array=numpy.flip(array)\n",
    "expo = 0\n",
    "temp = 0\n",
    "temp2 = 0\n",
    "\n",
    "while expo != len(reversed_array):\n",
    "    temp = reversed_array[expo] * 2 ** expo\n",
    "    temp2 = temp2 + temp\n",
    "    expo = expo + 1\n",
    "\n",
    "print(f\"Seu valor em decimal é de {temp2}\")"
   ]
  },
  {
   "cell_type": "code",
   "execution_count": null,
   "metadata": {},
   "outputs": [],
   "source": []
  }
 ],
 "metadata": {
  "kernelspec": {
   "display_name": "Python 3",
   "language": "python",
   "name": "python3"
  },
  "language_info": {
   "codemirror_mode": {
    "name": "ipython",
    "version": 3
   },
   "file_extension": ".py",
   "mimetype": "text/x-python",
   "name": "python",
   "nbconvert_exporter": "python",
   "pygments_lexer": "ipython3",
   "version": "3.8.3"
  }
 },
 "nbformat": 4,
 "nbformat_minor": 4
}
